{
  "nbformat": 4,
  "nbformat_minor": 0,
  "metadata": {
    "colab": {
      "provenance": []
    },
    "kernelspec": {
      "name": "python3",
      "display_name": "Python 3"
    },
    "language_info": {
      "name": "python"
    }
  },
  "cells": [
    {
      "cell_type": "code",
      "source": [
        "#Q11\n",
        "a = (5,(7,5,(1,2)),5,4)\n",
        "print(a.count(5))\n",
        "print(a[1][2])\n",
        "print(a * 3)\n",
        "print(len(a))\n",
        "b = (7,8,(4,5))\n",
        "print(a + b)"
      ],
      "metadata": {
        "id": "8N-j7Gd3xgCu",
        "colab": {
          "base_uri": "https://localhost:8080/"
        },
        "outputId": "d7fb99ff-f2e7-4800-c08a-c7da35a88359"
      },
      "execution_count": 1,
      "outputs": [
        {
          "output_type": "stream",
          "name": "stdout",
          "text": [
            "2\n",
            "(1, 2)\n",
            "(5, (7, 5, (1, 2)), 5, 4, 5, (7, 5, (1, 2)), 5, 4, 5, (7, 5, (1, 2)), 5, 4)\n",
            "4\n",
            "(5, (7, 5, (1, 2)), 5, 4, 7, 8, (4, 5))\n"
          ]
        }
      ]
    },
    {
      "cell_type": "code",
      "execution_count": 2,
      "metadata": {
        "id": "QS-0d4EJO5Q1",
        "colab": {
          "base_uri": "https://localhost:8080/"
        },
        "outputId": "25337070-ffb9-454f-ab29-a89ff69c3e5e"
      },
      "outputs": [
        {
          "output_type": "stream",
          "name": "stdout",
          "text": [
            "21\n"
          ]
        }
      ],
      "source": [
        "#Q12\n",
        "x = [3, 6, 9, 12, 15]\n",
        "y = x[::-1]\n",
        "print(y[1] + x[-3])"
      ]
    },
    {
      "cell_type": "code",
      "source": [
        "#Q13\n",
        "word = \"Whatever\"\n",
        "print(word[:3] + word[-1] + word[4:2:-1])"
      ],
      "metadata": {
        "id": "iMPZ9xIYO5RB",
        "colab": {
          "base_uri": "https://localhost:8080/"
        },
        "outputId": "75fcc544-4ed7-4e77-a64f-e616ad3f21ab"
      },
      "execution_count": 3,
      "outputs": [
        {
          "output_type": "stream",
          "name": "stdout",
          "text": [
            "Wharet\n"
          ]
        }
      ]
    },
    {
      "cell_type": "code",
      "source": [
        "#Q14\n",
        "nums = {3, 6, 9, 12}\n",
        "nums.add(15)\n",
        "nums.remove(6)\n",
        "nums.update([18, 21])\n",
        "nums.discard(99)\n",
        "print(sum(nums))"
      ],
      "metadata": {
        "id": "gYIphc6EO5RB",
        "colab": {
          "base_uri": "https://localhost:8080/"
        },
        "outputId": "e4654df8-8e3c-42fa-c512-da768b54b42f"
      },
      "execution_count": 4,
      "outputs": [
        {
          "output_type": "stream",
          "name": "stdout",
          "text": [
            "78\n"
          ]
        }
      ]
    },
    {
      "cell_type": "code",
      "source": [
        "#Q15\n",
        "info = {\"name\": \"Sara\", \"age\": 18, \"state\": \"Kerala\"}\n",
        "info[\"age\"] += 4\n",
        "info[\"country\"] = \"India\"\n",
        "print(info.keys())\n",
        "print(info.get(\"state\", \"Unknown\"))"
      ],
      "metadata": {
        "id": "BO8n5N_TO5RB",
        "colab": {
          "base_uri": "https://localhost:8080/"
        },
        "outputId": "1ee27192-20f6-480a-b01b-8edc2eeb35ac"
      },
      "execution_count": 5,
      "outputs": [
        {
          "output_type": "stream",
          "name": "stdout",
          "text": [
            "dict_keys(['name', 'age', 'state', 'country'])\n",
            "Kerala\n"
          ]
        }
      ]
    },
    {
      "cell_type": "code",
      "source": [
        "#Q16\n",
        "num_list = [5, 10, 15, 20, 25]\n",
        "res = list(map(lambda x: x % 3, num_list))\n",
        "print(res)"
      ],
      "metadata": {
        "id": "v5iCeEfpO5RC",
        "colab": {
          "base_uri": "https://localhost:8080/"
        },
        "outputId": "efd3fb5c-9a98-4eeb-a2c8-34e22cbb272e"
      },
      "execution_count": 6,
      "outputs": [
        {
          "output_type": "stream",
          "name": "stdout",
          "text": [
            "[2, 1, 0, 2, 1]\n"
          ]
        }
      ]
    },
    {
      "cell_type": "code",
      "source": [
        "#Q17\n",
        "ages = [15, 22, 18, 30, 12, 40, 90]\n",
        "adults = list(filter(lambda x: x >= 18, ages))\n",
        "print(len(adults))"
      ],
      "metadata": {
        "id": "aSbO_tG4O5RC",
        "colab": {
          "base_uri": "https://localhost:8080/"
        },
        "outputId": "456ec06b-79fb-472c-e73a-ac500f802ef9"
      },
      "execution_count": 7,
      "outputs": [
        {
          "output_type": "stream",
          "name": "stdout",
          "text": [
            "5\n"
          ]
        }
      ]
    },
    {
      "cell_type": "code",
      "source": [
        "#Q18\n",
        "from functools import reduce\n",
        "nums = [1, 2, 3, 4, 5]\n",
        "result = reduce(lambda x, y: x * y, nums)\n",
        "print(result)"
      ],
      "metadata": {
        "id": "6LnZBaywO5RC",
        "colab": {
          "base_uri": "https://localhost:8080/"
        },
        "outputId": "3737b502-ab8d-4d44-baf6-55b6802156fa"
      },
      "execution_count": 8,
      "outputs": [
        {
          "output_type": "stream",
          "name": "stdout",
          "text": [
            "120\n"
          ]
        }
      ]
    },
    {
      "cell_type": "code",
      "source": [
        "#Q19\n",
        "alpha = [\"a\", \"b\", \"c\", \"d\"]\n",
        "print(alpha.pop(2) + alpha[-1])\n",
        "print(alpha)"
      ],
      "metadata": {
        "id": "2M7O_wfNO5RC",
        "colab": {
          "base_uri": "https://localhost:8080/"
        },
        "outputId": "9ec5b132-77c5-460d-a7ff-8939d6968fc4"
      },
      "execution_count": 9,
      "outputs": [
        {
          "output_type": "stream",
          "name": "stdout",
          "text": [
            "cd\n",
            "['a', 'b', 'd']\n"
          ]
        }
      ]
    },
    {
      "cell_type": "code",
      "source": [
        "#Q20\n",
        "x = 10\n",
        "y = 3\n",
        "x, y = x % y, x // y\n",
        "print(x, y)"
      ],
      "metadata": {
        "id": "KE2cvZC_O5RC",
        "colab": {
          "base_uri": "https://localhost:8080/"
        },
        "outputId": "2a73c066-4952-4408-afb3-f17bb30093ce"
      },
      "execution_count": 10,
      "outputs": [
        {
          "output_type": "stream",
          "name": "stdout",
          "text": [
            "1 3\n"
          ]
        }
      ]
    }
  ]
}