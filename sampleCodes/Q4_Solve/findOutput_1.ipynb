{
  "nbformat": 4,
  "nbformat_minor": 0,
  "metadata": {
    "colab": {
      "provenance": []
    },
    "kernelspec": {
      "name": "python3",
      "display_name": "Python 3"
    },
    "language_info": {
      "name": "python"
    }
  },
  "cells": [
    {
      "cell_type": "code",
      "execution_count": null,
      "metadata": {
        "id": "4Gs7fuRNqWHm",
        "colab": {
          "base_uri": "https://localhost:8080/"
        },
        "outputId": "24c4fe10-16db-4d63-b4a1-3a8fb6db8356"
      },
      "outputs": [
        {
          "output_type": "stream",
          "name": "stdout",
          "text": [
            "10\n"
          ]
        }
      ],
      "source": [
        "#Q1\n",
        "whatIf = \"The world ends today\"\n",
        "print(len(whatIf) - len(\"NOT AT ALL\"))"
      ]
    },
    {
      "cell_type": "code",
      "source": [
        "#Q2\n",
        "movies = [\"Dune\", \"Jaws\", \"Up\", \"Titanic\", \"Ratatouille\"]\n",
        "print(movies[-2][3]+movies[-1][-1]+movies[-1][-4]+movies[4][-6]+movies[-5][1])"
      ],
      "metadata": {
        "id": "retWCK0rqySD",
        "colab": {
          "base_uri": "https://localhost:8080/"
        },
        "outputId": "bcbec747-926b-4c41-d853-e730331848f8"
      },
      "execution_count": null,
      "outputs": [
        {
          "output_type": "stream",
          "name": "stdout",
          "text": [
            "aeiou\n"
          ]
        }
      ]
    },
    {
      "cell_type": "code",
      "source": [
        "#Q3\n",
        "class_strength = {\"IT\": 70, \"ECE\": 65, \"EEE\": 75, \"AIML\": 50}\n",
        "class_strength.update({\"CSE\": 64})\n",
        "print(class_strength)"
      ],
      "metadata": {
        "id": "XSSGGMEfsn5-",
        "colab": {
          "base_uri": "https://localhost:8080/"
        },
        "outputId": "b1b47c2e-c003-45c6-d0b9-951abddd7866"
      },
      "execution_count": null,
      "outputs": [
        {
          "output_type": "stream",
          "name": "stdout",
          "text": [
            "{'IT': 70, 'ECE': 65, 'EEE': 75, 'AIML': 50, 'CSE': 64}\n"
          ]
        }
      ]
    },
    {
      "cell_type": "code",
      "source": [
        "#Q4\n",
        "event = \"Easter at April 20\"\n",
        "L = event.split(\" \")\n",
        "print(\"#\".join(L[::-2]))"
      ],
      "metadata": {
        "id": "sRfEeto5tOv5",
        "colab": {
          "base_uri": "https://localhost:8080/"
        },
        "outputId": "ec99bac1-551a-4de2-c5a7-434245290866"
      },
      "execution_count": null,
      "outputs": [
        {
          "output_type": "stream",
          "name": "stdout",
          "text": [
            "20#at\n"
          ]
        }
      ]
    },
    {
      "cell_type": "code",
      "source": [
        "#Q5\n",
        "name = \"College of Engineering\"\n",
        "print(name[8:11] + \"cyc\" + name[3] + name[-3:])"
      ],
      "metadata": {
        "id": "S8hXcXZFtuh8",
        "colab": {
          "base_uri": "https://localhost:8080/"
        },
        "outputId": "235dcbfc-5884-490d-c295-1061cdda8848"
      },
      "execution_count": null,
      "outputs": [
        {
          "output_type": "stream",
          "name": "stdout",
          "text": [
            "of cycling\n"
          ]
        }
      ]
    },
    {
      "cell_type": "code",
      "source": [
        "#Q6\n",
        "print(float(5 + int(4.39 + 2.1) % 2))"
      ],
      "metadata": {
        "id": "yY4pV_IjuD3o",
        "colab": {
          "base_uri": "https://localhost:8080/"
        },
        "outputId": "a945d16d-0032-4ce1-81d4-cbe6c5f6a941"
      },
      "execution_count": null,
      "outputs": [
        {
          "output_type": "stream",
          "name": "stdout",
          "text": [
            "5.0\n"
          ]
        }
      ]
    },
    {
      "cell_type": "code",
      "source": [
        "#Q7\n",
        "print(3*1**3)"
      ],
      "metadata": {
        "id": "4DgqNnNkuNBg",
        "colab": {
          "base_uri": "https://localhost:8080/"
        },
        "outputId": "bb417c02-b801-4c64-de6c-b71d32aff0bc"
      },
      "execution_count": null,
      "outputs": [
        {
          "output_type": "stream",
          "name": "stdout",
          "text": [
            "3\n"
          ]
        }
      ]
    },
    {
      "cell_type": "code",
      "source": [
        "#Q8\n",
        "p, q = 8, 3\n",
        "p, q, p = p+1, q+5, p+10\n",
        "print(p,q)"
      ],
      "metadata": {
        "id": "6zj8evI6vcSP",
        "colab": {
          "base_uri": "https://localhost:8080/"
        },
        "outputId": "b20ab4ec-307a-4a90-85c1-4142698b8198"
      },
      "execution_count": null,
      "outputs": [
        {
          "output_type": "stream",
          "name": "stdout",
          "text": [
            "18 8\n"
          ]
        }
      ]
    },
    {
      "cell_type": "code",
      "source": [
        "#Q9\n",
        "print(16 // 3 + 3 ** 3 + 15 / 4 - 9)"
      ],
      "metadata": {
        "id": "I0n13Zv5vppl",
        "colab": {
          "base_uri": "https://localhost:8080/"
        },
        "outputId": "912dbac9-3e76-4cb6-e40b-d53d949b5e07"
      },
      "execution_count": null,
      "outputs": [
        {
          "output_type": "stream",
          "name": "stdout",
          "text": [
            "26.75\n"
          ]
        }
      ]
    },
    {
      "cell_type": "code",
      "source": [
        "#Q10\n",
        "t = (2, 4, (6, 8, (10, 12)), 14)\n",
        "print(t[2][2][0] * t[0] + t[-1])"
      ],
      "metadata": {
        "id": "BsLy884dO5RB",
        "colab": {
          "base_uri": "https://localhost:8080/"
        },
        "outputId": "a2ba2257-8e5d-4dd7-ca74-b5bb87bed538"
      },
      "execution_count": null,
      "outputs": [
        {
          "output_type": "stream",
          "name": "stdout",
          "text": [
            "34\n"
          ]
        }
      ]
    }
  ]
}