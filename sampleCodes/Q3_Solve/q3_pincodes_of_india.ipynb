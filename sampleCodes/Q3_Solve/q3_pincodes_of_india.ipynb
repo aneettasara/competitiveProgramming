{
  "nbformat": 4,
  "nbformat_minor": 0,
  "metadata": {
    "colab": {
      "provenance": []
    },
    "kernelspec": {
      "name": "python3",
      "display_name": "Python 3"
    },
    "language_info": {
      "name": "python"
    }
  },
  "cells": [
    {
      "cell_type": "code",
      "execution_count": 3,
      "metadata": {
        "colab": {
          "base_uri": "https://localhost:8080/",
          "height": 0
        },
        "id": "p6YYIO2Vyd59",
        "outputId": "6b7cb266-6f0a-46e6-f5bd-a3e2af6f5e8e"
      },
      "outputs": [
        {
          "output_type": "stream",
          "name": "stdout",
          "text": [
            "400076\n"
          ]
        }
      ],
      "source": [
        "import re\n",
        "\n",
        "def extract_pincode(address):\n",
        "    # Regex to match a valid Indian PIN code with given conditions\n",
        "    pattern = r\"\\b[1-9][0-9]{2}\\s?[0-9]{3}\\b\"\n",
        "\n",
        "    match = re.search(pattern, address)\n",
        "\n",
        "    if match:\n",
        "        print(match.group().replace(\" \", \"\"))  # Remove space if present\n",
        "    else:\n",
        "        print(\"-1\")\n",
        "\n",
        "# Sample Test Case\n",
        "address = \"Flat No. 12B, Green Heights, Mumbai-400076, India\"\n",
        "extract_pincode(address)\n",
        "# Expected Output: 400076"
      ]
    },
    {
      "cell_type": "code",
      "source": [
        "# Test Case 1\n",
        "address1 = \"Block 21, MG Road, Kolkata 700 001\"\n",
        "extract_pincode(address1)"
      ],
      "metadata": {
        "colab": {
          "base_uri": "https://localhost:8080/",
          "height": 0
        },
        "id": "3-DZjhxT1hRl",
        "outputId": "33321db3-16b7-4f6c-9074-7c14aca26eb7"
      },
      "execution_count": 4,
      "outputs": [
        {
          "output_type": "stream",
          "name": "stdout",
          "text": [
            "700001\n"
          ]
        }
      ]
    },
    {
      "cell_type": "code",
      "source": [
        "# Test Case 2\n",
        "address2 = \"XYZ Towers, Bengaluru - 560103\"\n",
        "extract_pincode(address2)"
      ],
      "metadata": {
        "colab": {
          "base_uri": "https://localhost:8080/",
          "height": 0
        },
        "outputId": "4e446b3d-fc13-430c-c24b-dc8641483f19",
        "id": "V7RrnoN-_A1f"
      },
      "execution_count": 5,
      "outputs": [
        {
          "output_type": "stream",
          "name": "stdout",
          "text": [
            "560103\n"
          ]
        }
      ]
    },
    {
      "cell_type": "code",
      "source": [
        "# Test Case 3\n",
        "address3 = \"Near CP, Delhi-110001, Landmark 654321\"\n",
        "extract_pincode(address3)"
      ],
      "metadata": {
        "colab": {
          "base_uri": "https://localhost:8080/",
          "height": 0
        },
        "outputId": "eeac409c-5577-42f6-9a09-0196d579fb8a",
        "id": "mosA3x94_BBT"
      },
      "execution_count": 6,
      "outputs": [
        {
          "output_type": "stream",
          "name": "stdout",
          "text": [
            "110001\n"
          ]
        }
      ]
    },
    {
      "cell_type": "code",
      "source": [
        "# Test Case 4\n",
        "address4 = \"Office No. 101, Building XYZ, Bangalore-560102\"\n",
        "extract_pincode(address4)"
      ],
      "metadata": {
        "colab": {
          "base_uri": "https://localhost:8080/",
          "height": 0
        },
        "outputId": "9818ad8f-24af-4f7b-d877-5f2ac85fa468",
        "id": "8a9OAcLm_CVL"
      },
      "execution_count": 7,
      "outputs": [
        {
          "output_type": "stream",
          "name": "stdout",
          "text": [
            "560102\n"
          ]
        }
      ]
    },
    {
      "cell_type": "code",
      "source": [
        "# Test Case 5\n",
        "address5 = \"Some random text with no pin\"\n",
        "extract_pincode(address5)"
      ],
      "metadata": {
        "colab": {
          "base_uri": "https://localhost:8080/",
          "height": 0
        },
        "outputId": "4db7d599-9d4f-47e0-b49b-da63d0c84927",
        "id": "yHxMaCtr_Ck6"
      },
      "execution_count": 8,
      "outputs": [
        {
          "output_type": "stream",
          "name": "stdout",
          "text": [
            "-1\n"
          ]
        }
      ]
    },
    {
      "cell_type": "code",
      "source": [
        "# Test Case 6\n",
        "address6 = \"Invalid case: 012345\"\n",
        "extract_pincode(address6)"
      ],
      "metadata": {
        "colab": {
          "base_uri": "https://localhost:8080/",
          "height": 0
        },
        "outputId": "54c31a3f-bfc2-4f8e-95fc-3fa64fcf8f49",
        "id": "Ol6HL34m_C2D"
      },
      "execution_count": 9,
      "outputs": [
        {
          "output_type": "stream",
          "name": "stdout",
          "text": [
            "-1\n"
          ]
        }
      ]
    },
    {
      "cell_type": "code",
      "source": [
        "# Test Case 7\n",
        "address7 = \"Apartment 21, Road No. 4, Pincode 123 456\"\n",
        "extract_pincode(address7)"
      ],
      "metadata": {
        "colab": {
          "base_uri": "https://localhost:8080/",
          "height": 0
        },
        "outputId": "ee103aff-04e3-4fd7-a537-00d0ae33855c",
        "id": "C978yLQd_DHG"
      },
      "execution_count": 10,
      "outputs": [
        {
          "output_type": "stream",
          "name": "stdout",
          "text": [
            "123456\n"
          ]
        }
      ]
    },
    {
      "cell_type": "code",
      "source": [
        "# Test Case 8\n",
        "address8 = \"A random number 999123456789 in text\"\n",
        "extract_pincode(address8)"
      ],
      "metadata": {
        "colab": {
          "base_uri": "https://localhost:8080/",
          "height": 0
        },
        "outputId": "476f573f-d5d8-4aa2-b0b6-2600c4106c02",
        "id": "8agymJgD_DTS"
      },
      "execution_count": 11,
      "outputs": [
        {
          "output_type": "stream",
          "name": "stdout",
          "text": [
            "-1\n"
          ]
        }
      ]
    },
    {
      "cell_type": "code",
      "source": [
        "# Test Case 9\n",
        "address9 = \"Complex, Block 5, Chennai 600 045\"\n",
        "extract_pincode(address9)"
      ],
      "metadata": {
        "colab": {
          "base_uri": "https://localhost:8080/",
          "height": 0
        },
        "outputId": "1c310068-0117-4f8c-bf85-43e6d7eb765b",
        "id": "neJdUohg-98o"
      },
      "execution_count": 12,
      "outputs": [
        {
          "output_type": "stream",
          "name": "stdout",
          "text": [
            "600045\n"
          ]
        }
      ]
    },
    {
      "cell_type": "code",
      "source": [
        "# Test Case 10\n",
        "address10 = \"PINs: 500081, 110092, 400076\"\n",
        "extract_pincode(address10)"
      ],
      "metadata": {
        "colab": {
          "base_uri": "https://localhost:8080/",
          "height": 0
        },
        "outputId": "5f09bafa-87bb-474e-91c7-ef014f64c470",
        "id": "Z7rvtLOV--L4"
      },
      "execution_count": 13,
      "outputs": [
        {
          "output_type": "stream",
          "name": "stdout",
          "text": [
            "500081\n"
          ]
        }
      ]
    }
  ]
}